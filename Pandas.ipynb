{
 "cells": [
  {
   "cell_type": "code",
   "execution_count": null,
   "id": "6f45735d",
   "metadata": {},
   "outputs": [],
   "source": [
    "import numpy as np\n",
    "import pandas as pd\n"
   ]
  },
  {
   "cell_type": "code",
   "execution_count": null,
   "id": "1394088e",
   "metadata": {},
   "outputs": [],
   "source": [
    "@The important functions inbuilt :"
   ]
  },
  {
   "cell_type": "code",
   "execution_count": null,
   "id": "4c4b8481",
   "metadata": {},
   "outputs": [],
   "source": [
    "pd.read_csv('')\n",
    "#if we want to call above in future we need to save it in a variable eg. \n",
    "data=pd.read_csv('')\n",
    "#to know the data type ,use type(data)\n"
   ]
  },
  {
   "cell_type": "code",
   "execution_count": null,
   "id": "a6ca9429",
   "metadata": {},
   "outputs": [],
   "source": [
    "data.head()\n",
    "#it takes out all data values of top 5 dataset of the that file entered\n",
    "#It can be custom as well if only want any specific no.of rows then enter in bracket"
   ]
  },
  {
   "cell_type": "code",
   "execution_count": null,
   "id": "cb6fc5c6",
   "metadata": {},
   "outputs": [],
   "source": [
    "data.tail()\n",
    "#vice a versa of head\n"
   ]
  },
  {
   "cell_type": "code",
   "execution_count": null,
   "id": "86f850d8",
   "metadata": {},
   "outputs": [],
   "source": [
    "data.describe()\n",
    "#only work on numerical colums and rest are ignored.provides the mathematical analysis preview.\n",
    "data('')\n",
    "#by naming the coloum you canfetch the series of the data you wanted.\n",
    "#can even fetch more seperating with columns \n"
   ]
  },
  {
   "cell_type": "code",
   "execution_count": null,
   "id": "fa37cc0e",
   "metadata": {},
   "outputs": [],
   "source": [
    "mask=data['heading']=='value'\n",
    "data[mask].shape\n",
    "#it counts the no.of rows and columns in the data as matched per condition."
   ]
  },
  {
   "cell_type": "code",
   "execution_count": null,
   "id": "f2bd8b84",
   "metadata": {},
   "outputs": [],
   "source": [
    "#value_counts fetch the data series(in series)\n",
    "data['value series you want to fetch'].value_counts()\n",
    "#for eg. if you wrote data['winners'].value_counts() as per the data set it will print all team and occurance of matches won by them in series list form\n",
    "\n"
   ]
  },
  {
   "cell_type": "code",
   "execution_count": null,
   "id": "b48f9b04",
   "metadata": {},
   "outputs": [],
   "source": [
    "#pandas plot\n",
    "import matplotlib.pyplot as plt\n",
    "data[series value u want].value_counts().plot(kind='bar')  \n",
    "#with this above we get a bar chart ploted of data fetched in series\n",
    "#if want plot in pie then instead of bar write pie"
   ]
  },
  {
   "cell_type": "code",
   "execution_count": null,
   "id": "c7542946",
   "metadata": {},
   "outputs": [],
   "source": [
    "data['column'].value_counts().head(.plot(kind='bar'))\n",
    "#This gave the top five teams with their index name and the value.\n",
    "#\"barh\" is the horizontal axis bar chat where the bar chat sift the categorical data to differnet axis."
   ]
  },
  {
   "cell_type": "code",
   "execution_count": null,
   "id": "086e370b",
   "metadata": {},
   "outputs": [],
   "source": [
    ".....plot(kind='pie')\n",
    "#this would fetch the pie chart "
   ]
  },
  {
   "cell_type": "code",
   "execution_count": null,
   "id": "77675bfd",
   "metadata": {},
   "outputs": [],
   "source": [
    "Histogram does the same work like bar chat but here it does for numerical data\n",
    "data['column needed'].plot(kind='hist')\n"
   ]
  },
  {
   "cell_type": "code",
   "execution_count": null,
   "id": "b0a16c76",
   "metadata": {},
   "outputs": [],
   "source": [
    "myseries.index\n",
    "#this would print the whole series in form of array\n",
    "myseries.value \n",
    "# for printing the whole value array\n",
    "myseries['specific index']\n",
    "#if you want any specific value of inndex then just copy that index and write it in the \n",
    "[''] brackets this would be give the value specific to it"
   ]
  },
  {
   "cell_type": "code",
   "execution_count": null,
   "id": "1c50f608",
   "metadata": {},
   "outputs": [],
   "source": []
  },
  {
   "cell_type": "code",
   "execution_count": null,
   "id": "cb960c5e",
   "metadata": {},
   "outputs": [],
   "source": [
    "#If series of two index is same then we can write it in a line and apply \n",
    "#any mathematical apalication in it eg:\n",
    "data1['team1'].value_counts() + data2['team2'].value_counts()\n"
   ]
  },
  {
   "cell_type": "code",
   "execution_count": null,
   "id": "557a0e38",
   "metadata": {},
   "outputs": [],
   "source": [
    "sorting- by default in the ascending order only with ()sort_values()\n",
    "(data1['team1'].value_counts() + data2['team2'].value_counts()).sort_values()\n",
    "\n",
    "for making it descending we can write sort_values(ascending=False)\n",
    "#the above is not th permanet change the, input data or the previous data remians unchanged\n",
    "and if you want to make it final change and replace it in the main data then\n",
    "over above add- ,inplace=True ......as the dafault vcalue of inplace is False so making it true will give us the result we want .\n",
    "\n"
   ]
  },
  {
   "cell_type": "code",
   "execution_count": null,
   "id": "420f134b",
   "metadata": {},
   "outputs": [],
   "source": [
    " #if you want a list arranged in ascending order like sort of city alphabetically and time just an example then\n",
    "\n",
    "    data.sort_values(['city','data'])\n",
    "    #adding mor eparameters to it if you wanted in this u want to pass only city in asc. order but \n",
    "    #date in desc. order then for it we can add [] for ascd and True false \n",
    "    data.sort_values(['city','data'],ascending=[True,False])\n",
    "    3sort values are applied on seris or dataframe a s well.\n",
    "    "
   ]
  },
  {
   "cell_type": "code",
   "execution_count": null,
   "id": "60d67476",
   "metadata": {},
   "outputs": [],
   "source": [
    "#drop_duplicate- same which means to remove the drop function\n",
    "data.drop_duplictaes(subset=['city or any parameter'])\n",
    "#.shape gives the complete shape\n",
    "if you wrote two set"
   ]
  },
  {
   "cell_type": "code",
   "execution_count": null,
   "id": "b5c37b05",
   "metadata": {},
   "outputs": [],
   "source": [
    "#drop duplicate default takes the value as the first one\n",
    "keep='lasts'make it re,move the last one\n",
    "data.drop_duplictaes(subset=['city or any parameter',keeps='lasts']['season','winner']])\n"
   ]
  },
  {
   "cell_type": "code",
   "execution_count": null,
   "id": "47326bf9",
   "metadata": {},
   "outputs": [],
   "source": [
    "  groupby() fuction has to assigned as a new value to implement\n",
    "#get group feature\n",
    "parameter.get_group('any specific required')\n",
    "#groupby() won't return any outputr but do group formation at back which reflects at last\n",
    "\n",
    "#grouping makes very easy for the other aaplictzions like we can directly apply mean fuvction or segeration and other\n",
    "sectors.mean()     #this would return all the data values mean value in the data sheet table form ,m and here sector is justs a parameter of any assumed data set\n",
    "#the full anaysis at a one go\n",
    "#If any secific is required then;\n",
    "sectors['Parameter or column'].mean().sort_values(ascending=False)\n"
   ]
  },
  {
   "cell_type": "code",
   "execution_count": null,
   "id": "b241e0ab",
   "metadata": {},
   "outputs": [],
   "source": [
    "# to fetch a single row and its data:\n",
    "'parameter'.iloc[location/no. ,:]     #here blank we want the whole column\n",
    "       "
   ]
  },
  {
   "cell_type": "code",
   "execution_count": null,
   "id": "84186110",
   "metadata": {},
   "outputs": [],
   "source": [
    "to calculate the overall, we can do groupby of that particular \n",
    "#for eg : runs['batsman_runs'].sum().sort_values(ascending=False).head()\n",
    "here head means it will give the above data more scored one\n",
    "  "
   ]
  },
  {
   "cell_type": "code",
   "execution_count": null,
   "id": "8de1481e",
   "metadata": {},
   "outputs": [],
   "source": [
    "#isin()\n",
    "#Converting any index into list we can simply write\n",
    ".index.tolist()\n",
    "#isin function just checks whether it exits for compare the two given list and outpiuts the boolean series\n"
   ]
  },
  {
   "cell_type": "code",
   "execution_count": null,
   "id": "77e7aa3f",
   "metadata": {},
   "outputs": [],
   "source": [
    "#Merge func\n",
    "#merge of pandas is same as sql join\n",
    "first table name.merge[name of the second data frame ,left_on='column specific',right_on='column spevcific']\n",
    "#here column specific does nothing but the same thing in both table with respective they will merge it .\n",
    "#basically common point to join both \n",
    "#to evalute the thing do it. shape to check out wheter the data is merged and rows not lost.\n"
   ]
  },
  {
   "cell_type": "code",
   "execution_count": null,
   "id": "51a8ba7b",
   "metadata": {},
   "outputs": [],
   "source": [
    ".reset_index()         #It reset the index\n",
    ".drop_duplicate(subset='',keep='')  #in space of keep we can write the data to be kept"
   ]
  },
  {
   "cell_type": "code",
   "execution_count": null,
   "id": "aff77cac",
   "metadata": {},
   "outputs": [],
   "source": [
    "#Pivot table\n",
    "#p table modls te data set to analyse it to the best.All you have to do is the give the index it will sort and make it more readable\n",
    "#ANALYSIS with your convience and we need to refine the data  before making the pivot table\n",
    "#eg.\n",
    "dataset.pivot_table(index='',columns='',values='')# you can pass the parameter you wanted to mold as way in '' this\n",
    "\n",
    "table.corr()        # here corr means corelation which gives output of only numerical values in rows and columns #\n",
    "# We can plot the heatmap of the pivot table wiyth matplotlib\n",
    "#to create so-\n",
    "sns.heatmap('pivot table name for which you want to check')\n"
   ]
  },
  {
   "cell_type": "code",
   "execution_count": null,
   "id": "748126f0",
   "metadata": {},
   "outputs": [],
   "source": [
    "#RENAMING THE COLUMN\n",
    "table.rename({'previous name':'new name'}) #basically w epass adict in key value pair of old and new name changed of the parameter\n"
   ]
  },
  {
   "cell_type": "code",
   "execution_count": null,
   "id": "00917fef",
   "metadata": {},
   "outputs": [],
   "source": [
    "#set_index and reset_index\n",
    "#making any column as a index\n",
    "data.set_index('column',inplace=True)     #here inplace is replacing & making it permanne t change making it\n",
    "#reset index is the opposite of setting \n",
    "data.reset_index('column',inplace=True)\n",
    "\n"
   ]
  },
  {
   "cell_type": "code",
   "execution_count": null,
   "id": "89e140f3",
   "metadata": {},
   "outputs": [],
   "source": [
    "Dropping missing data by using dropna()\n",
    "\n",
    "data.dropna()   #it has several parmeters importantly on eof it is \"how\"\n",
    "#whoes value in default is 'any'row by row it will iterate and if it goets any none value anywhere in column of that row to it will delete that row.\n",
    "#by assigning the how as 'all' it will check for all missing values\n",
    "\n",
    "Again these all are not permanent changes to make it permanent - inplace=True\n",
    "# and axis parameter is by default here =0 which means it will start with row 0,\n",
    "#for eg. if axis =1 means it will delete the rows having 1 missing\n",
    "\n",
    "data.dropna(subset=['column 1','column 2'])\n",
    "#or /union work so it will  remove in whichever from both found\n"
   ]
  },
  {
   "cell_type": "code",
   "execution_count": null,
   "id": "ba532a0b",
   "metadata": {},
   "outputs": [],
   "source": [
    "Filling missing values using fillan()\n",
    "\n",
    "data['column'].fillna(\"Not specified\",inplace=True)\n",
    "#default axis is none so by changing it to 0,1 we can swicth to diff rows as well\n",
    "data['column'].fillna(method='bfill')   # It copy paste the same value in place of missing from the front want bfill-backfill\n",
    "#Similar to it,\n",
    "data['column'].fillna(method='ffill')   # \" \" It copies from the front value and paste the same\n",
    "\n"
   ]
  }
 ],
 "metadata": {
  "kernelspec": {
   "display_name": "Python 3",
   "language": "python",
   "name": "python3"
  },
  "language_info": {
   "codemirror_mode": {
    "name": "ipython",
    "version": 3
   },
   "file_extension": ".py",
   "mimetype": "text/x-python",
   "name": "python",
   "nbconvert_exporter": "python",
   "pygments_lexer": "ipython3",
   "version": "3.8.8"
  }
 },
 "nbformat": 4,
 "nbformat_minor": 5
}
